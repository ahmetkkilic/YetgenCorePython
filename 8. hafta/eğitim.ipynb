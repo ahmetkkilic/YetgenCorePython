{
 "cells": [
  {
   "attachments": {},
   "cell_type": "markdown",
   "metadata": {},
   "source": [
    "# Dosya Okuma İşlemleri\n",
    "\n",
    "- open() dosya açmak için \n",
    "\n",
    "- open(dosyaIsmı, dosyaModu)\n",
    "\n",
    "- r: okuma modunda açar\n",
    "\n",
    "- close(): dosyayı kapatır\n",
    "\n"
   ]
  },
  {
   "cell_type": "code",
   "execution_count": 2,
   "metadata": {},
   "outputs": [
    {
     "name": "stdout",
     "output_type": "stream",
     "text": [
      "<_io.TextIOWrapper name='bilgiler.txt' mode='r' encoding='cp1254'>\n"
     ]
    }
   ],
   "source": [
    "f = open(\"bilgiler.txt\")\n",
    "print(f)"
   ]
  },
  {
   "cell_type": "code",
   "execution_count": 4,
   "metadata": {},
   "outputs": [
    {
     "name": "stdout",
     "output_type": "stream",
     "text": [
      "Ben bu dosyayı bulamadım\n"
     ]
    }
   ],
   "source": [
    "try:\n",
    "    file = open(\"bilgiler.txt2\", \"r\", enoding=\"utf-8\") # utf-8 türkçe karakterde açar.\n",
    "     \n",
    "\n",
    "except:\n",
    "    print(\"Ben bu dosyayı bulamadım\")"
   ]
  },
  {
   "cell_type": "code",
   "execution_count": 12,
   "metadata": {},
   "outputs": [
    {
     "name": "stdout",
     "output_type": "stream",
     "text": [
      "kandırıldık\n",
      "\n"
     ]
    }
   ],
   "source": [
    "file = open(\"bilgiler.txt\", \"r\", encoding=\"utf-8\")\n",
    "\n",
    "for i in file:\n",
    "    print(i)\n",
    "\n",
    "file.close()"
   ]
  },
  {
   "cell_type": "code",
   "execution_count": 15,
   "metadata": {},
   "outputs": [
    {
     "name": "stdout",
     "output_type": "stream",
     "text": [
      "kandırıldık\n",
      "boncuk\n",
      "\n"
     ]
    }
   ],
   "source": [
    "file = open(\"bilgiler.txt\", \"r\", encoding=\"utf-8\")\n",
    "icerik = file.read()\n",
    "print(icerik)\n",
    "\n",
    "file.close()"
   ]
  },
  {
   "cell_type": "code",
   "execution_count": 17,
   "metadata": {},
   "outputs": [
    {
     "name": "stdout",
     "output_type": "stream",
     "text": [
      "kandırıldık\n",
      "\n"
     ]
    }
   ],
   "source": [
    "file = open(\"bilgiler.txt\", \"r\", encoding=\"utf-8\")\n",
    "\n",
    "print(file.readline()) #tek tek okuyor\n",
    "\n",
    "file.close()"
   ]
  },
  {
   "cell_type": "code",
   "execution_count": 18,
   "metadata": {},
   "outputs": [
    {
     "name": "stdout",
     "output_type": "stream",
     "text": [
      "['kandırıldık\\n', 'boncuk\\n']\n"
     ]
    }
   ],
   "source": [
    "file = open(\"bilgiler.txt\", \"r\", encoding=\"utf-8\")\n",
    "\n",
    "print(file.readlines()) #hepsini okuyor\n",
    "\n",
    "file.close()"
   ]
  },
  {
   "cell_type": "code",
   "execution_count": 3,
   "metadata": {},
   "outputs": [],
   "source": [
    "file = open(\"bilgiler.txt\", \"w\", encoding=\"utf-8\") # \"w\" yazma modu.\n",
    "\n",
    "file.write(\"Yetgen\\n\") #tüm dosya içeriğini sildi ve sadece yetgen yazdı.\n",
    "\n",
    "file.close()"
   ]
  },
  {
   "cell_type": "code",
   "execution_count": 4,
   "metadata": {},
   "outputs": [],
   "source": [
    "file = open(\"bilgiler.txt\", \"a\", encoding=\"utf-8\") # \"a\" eppend ekleme modu.\n",
    "\n",
    "file.write(\"jump\\n\") #ekledi. \\ alt satıra ekler.\n",
    "\n",
    "file.close()"
   ]
  },
  {
   "attachments": {},
   "cell_type": "markdown",
   "metadata": {},
   "source": [
    "# Dosyaları Otomatik Kapatma\n"
   ]
  },
  {
   "cell_type": "code",
   "execution_count": 8,
   "metadata": {},
   "outputs": [
    {
     "name": "stdout",
     "output_type": "stream",
     "text": [
      "Yetgen\n",
      "\n",
      "jump\n",
      "\n"
     ]
    }
   ],
   "source": [
    "with open(\"bilgiler.txt\", \"r\", encoding=\"utf-8\") as file:\n",
    "    for i in file:\n",
    "        print(i)"
   ]
  },
  {
   "attachments": {},
   "cell_type": "markdown",
   "metadata": {},
   "source": [
    "# Dosyayı İleri - Geri Sarmak\n",
    "\n",
    "- seek() istediğin baytı oku\n",
    "- tell() dosya hangi baytta?"
   ]
  },
  {
   "cell_type": "code",
   "execution_count": 10,
   "metadata": {},
   "outputs": [
    {
     "name": "stdout",
     "output_type": "stream",
     "text": [
      "2\n"
     ]
    }
   ],
   "source": [
    "with open(\"bilgiler.txt\", \"r\", encoding=\"utf-8\") as file:\n",
    "    file.seek(2)\n",
    "    print(file.tell())"
   ]
  },
  {
   "attachments": {},
   "cell_type": "markdown",
   "metadata": {},
   "source": [
    "# Dosyanın Sonunda Değişiklik Yapmak\n"
   ]
  },
  {
   "cell_type": "code",
   "execution_count": 12,
   "metadata": {},
   "outputs": [],
   "source": [
    "with open(\"bilgiler.txt\", \"r+\", encoding=\"utf-8\") as file: #r+ hem okuma hem yazma.\n",
    "    file.seek(10)\n",
    "    file.write(\"merhaba\")"
   ]
  },
  {
   "attachments": {},
   "cell_type": "markdown",
   "metadata": {},
   "source": [
    "# Dosyanın Başında Değişiklik Yapmak\n"
   ]
  },
  {
   "cell_type": "code",
   "execution_count": 15,
   "metadata": {},
   "outputs": [],
   "source": [
    "with open(\"bilgiler.txt\", \"r+\", encoding=\"utf-8\") as file:\n",
    "    girdi = file.read()\n",
    "    girdi = \"hos\\n\" + girdi\n",
    "    file.seek(0)\n",
    "    file.write(girdi)"
   ]
  },
  {
   "cell_type": "code",
   "execution_count": 18,
   "metadata": {},
   "outputs": [
    {
     "name": "stdout",
     "output_type": "stream",
     "text": [
      "hos\n",
      "Yetgen\n",
      "jumerhaba\n"
     ]
    }
   ],
   "source": [
    "with open(\"bilgiler.txt\", \"r\", encoding=\"utf-8\") as file:\n",
    "    print(file.read())\n",
    "   "
   ]
  },
  {
   "attachments": {},
   "cell_type": "markdown",
   "metadata": {},
   "source": [
    "# Dosyanın Ortasında Değişiklik Yapmak"
   ]
  },
  {
   "cell_type": "code",
   "execution_count": 21,
   "metadata": {},
   "outputs": [],
   "source": [
    "with open(\"bilgiler.txt\", \"r+\", encoding=\"utf-8\") as file:\n",
    "    liste = file.readlines() #satır satır oku.\n",
    "    liste.insert(3, \"çaykur\\n\") # çaykuru 3. indexe satıra yazdır.\n",
    "    file.seek(0)\n",
    "    file.writelines(liste)"
   ]
  },
  {
   "cell_type": "code",
   "execution_count": 20,
   "metadata": {},
   "outputs": [
    {
     "name": "stdout",
     "output_type": "stream",
     "text": [
      "hos\n",
      "Yetgen\n",
      "jumerhabaçaykur\n",
      "\n"
     ]
    }
   ],
   "source": [
    "with open(\"bilgiler.txt\", \"r\", encoding=\"utf-8\") as file:\n",
    "    print(file.read())"
   ]
  },
  {
   "attachments": {},
   "cell_type": "markdown",
   "metadata": {},
   "source": [
    "# ... Nesne Yönelimli Programlama ...\n",
    "\n",
    "## kendini tekrar etme"
   ]
  },
  {
   "cell_type": "code",
   "execution_count": 22,
   "metadata": {},
   "outputs": [],
   "source": [
    "class Araba():\n",
    "    model = \"Dodge Challanger SRT\"\n",
    "    renk = \"Siyah\"\n",
    "    beygirGücü = 110\n",
    "    silindir = 4"
   ]
  },
  {
   "cell_type": "markdown",
   "metadata": {},
   "source": [
    "# Class\n",
    "\n",
    "## obje oluşturma:\n",
    "- obje_ismi = Sınıf_İsmi(parametreler(opsiyonel))\n",
    "\n",
    "## özelliklere erişme:\n",
    "- obje_ismi.özellik_ismi\n"
   ]
  },
  {
   "cell_type": "code",
   "execution_count": 23,
   "metadata": {},
   "outputs": [
    {
     "name": "stdout",
     "output_type": "stream",
     "text": [
      "Dodge Challanger SRT\n"
     ]
    }
   ],
   "source": [
    "araba1 = Araba()\n",
    "\n",
    "print(araba1.model)"
   ]
  },
  {
   "cell_type": "code",
   "execution_count": 24,
   "metadata": {},
   "outputs": [],
   "source": [
    "class Araba():\n",
    "    def __init__(self, model, renk, beygir, silindir):\n",
    "        self.model = model\n",
    "        self.renk = renk\n",
    "        self.beygir = beygir\n",
    "        self.silindir = silindir\n",
    "        "
   ]
  },
  {
   "cell_type": "code",
   "execution_count": 25,
   "metadata": {},
   "outputs": [
    {
     "name": "stdout",
     "output_type": "stream",
     "text": [
      "honda\n"
     ]
    }
   ],
   "source": [
    "araba2 = Araba(\"honda\", \"civic\", 120, 4)\n",
    "print(araba2.model)"
   ]
  },
  {
   "cell_type": "code",
   "execution_count": 28,
   "metadata": {},
   "outputs": [
    {
     "name": "stdout",
     "output_type": "stream",
     "text": [
      "merhba yorumunu yapıp : 18 beğeni aldı : 38 beğenmeyen kişi oldu\n",
      "anawliz yorumunu yapıp : 99 beğeni aldı : 12 beğenmeyen kişi oldu\n"
     ]
    }
   ],
   "source": [
    "class comment():\n",
    "    def __init__(self, text, likes, dislikes):\n",
    "        self.text = text\n",
    "        self.likes = likes\n",
    "        self.dislikes = dislikes\n",
    "\n",
    "ahmet = comment(\"merhba\", 18, 38) \n",
    "mehmetAli = comment(\"anawliz\", 99, 12)\n",
    "\n",
    "\n",
    "comments = [ahmet, mehmetAli]\n",
    "\n",
    "for i in comments:\n",
    "    print(f\"{i.text} yorumunu yapıp : {i.likes} beğeni aldı : {i.dislikes} beğenmeyen kişi oldu\")\n",
    "\n",
    "    "
   ]
  }
 ],
 "metadata": {
  "kernelspec": {
   "display_name": "Python 3",
   "language": "python",
   "name": "python3"
  },
  "language_info": {
   "codemirror_mode": {
    "name": "ipython",
    "version": 3
   },
   "file_extension": ".py",
   "mimetype": "text/x-python",
   "name": "python",
   "nbconvert_exporter": "python",
   "pygments_lexer": "ipython3",
   "version": "3.11.3"
  },
  "orig_nbformat": 4
 },
 "nbformat": 4,
 "nbformat_minor": 2
}
