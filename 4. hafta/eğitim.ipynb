{
 "cells": [
  {
   "attachments": {},
   "cell_type": "markdown",
   "metadata": {},
   "source": [
    "# Listeler\n",
    "\n",
    "\n",
    "- [] içine yazılır.\n",
    "- içiçe liste yazılabilir.\n"
   ]
  },
  {
   "cell_type": "code",
   "execution_count": 1,
   "metadata": {},
   "outputs": [
    {
     "name": "stdout",
     "output_type": "stream",
     "text": [
      "['ahmet', 'mehmet', 'ceylan']\n",
      "ahmet\n"
     ]
    }
   ],
   "source": [
    "liderler = [\"ahmet\", \"mehmet\", \"ceylan\"]\n",
    "\n",
    "print(liderler)\n",
    "\n",
    "print(liderler[0])"
   ]
  },
  {
   "attachments": {},
   "cell_type": "markdown",
   "metadata": {},
   "source": [
    "# Liste Metodları\n",
    "\n",
    "- append() : Listenin sonuna eleman ekler.\n",
    "- remove() : Listenin içerisinde elemanı siler."
   ]
  },
  {
   "cell_type": "code",
   "execution_count": 9,
   "metadata": {},
   "outputs": [
    {
     "name": "stdout",
     "output_type": "stream",
     "text": [
      "['mehmet', 'ceylan', 'ferhan', 'ferhan', 'ferhan', 'ferhan', 'ferhan', 'ferhan', 'ferhan', 'ferhan']\n",
      "['mehmet', 'ferhan', 'ferhan', 'ferhan', 'ferhan', 'ferhan', 'ferhan', 'ferhan', 'ferhan']\n"
     ]
    }
   ],
   "source": [
    "liderler.append(\"ferhan\")\n",
    "\n",
    "print(liderler)\n",
    "\n",
    "liderler.remove(\"ceylan\")\n",
    "\n",
    "print(liderler)"
   ]
  },
  {
   "attachments": {},
   "cell_type": "markdown",
   "metadata": {},
   "source": [
    "- len() : listenin uzunluğuna ulaşıyoruz.\n"
   ]
  },
  {
   "cell_type": "code",
   "execution_count": 11,
   "metadata": {},
   "outputs": [
    {
     "name": "stdout",
     "output_type": "stream",
     "text": [
      "9\n"
     ]
    }
   ],
   "source": [
    "print(len(liderler))"
   ]
  },
  {
   "attachments": {},
   "cell_type": "markdown",
   "metadata": {},
   "source": [
    "- clear() : Listenin içerisindeki elemanı siler."
   ]
  },
  {
   "cell_type": "code",
   "execution_count": 12,
   "metadata": {},
   "outputs": [
    {
     "name": "stdout",
     "output_type": "stream",
     "text": [
      "[]\n"
     ]
    }
   ],
   "source": [
    "liderler.clear()\n",
    "\n",
    "print(liderler)"
   ]
  },
  {
   "attachments": {},
   "cell_type": "markdown",
   "metadata": {},
   "source": [
    "- index() \n",
    "\n",
    "listedeki sırasını verir."
   ]
  },
  {
   "cell_type": "code",
   "execution_count": 16,
   "metadata": {},
   "outputs": [
    {
     "name": "stdout",
     "output_type": "stream",
     "text": [
      "Ankaranin indexi :1\n"
     ]
    }
   ],
   "source": [
    "sehirler = [ \"izmir\" , \"ankara\" ]\n",
    "\n",
    "\n",
    "print(\"Ankaranin indexi :\" + str(sehirler.index(\"ankara\")) )"
   ]
  },
  {
   "attachments": {},
   "cell_type": "markdown",
   "metadata": {},
   "source": [
    "pop() : Listedeki elemanı siler.\n",
    "\n",
    "- İndex verilmezse son elemanı siler.\n",
    "\n",
    "- İndex verilirse verilen indexteki elemanı siler."
   ]
  },
  {
   "cell_type": "code",
   "execution_count": 20,
   "metadata": {},
   "outputs": [
    {
     "ename": "IndexError",
     "evalue": "pop from empty list",
     "output_type": "error",
     "traceback": [
      "\u001b[1;31m---------------------------------------------------------------------------\u001b[0m",
      "\u001b[1;31mIndexError\u001b[0m                                Traceback (most recent call last)",
      "Cell \u001b[1;32mIn[20], line 1\u001b[0m\n\u001b[1;32m----> 1\u001b[0m sehirler\u001b[39m.\u001b[39;49mpop()\n\u001b[0;32m      3\u001b[0m \u001b[39m#ankarayı sildi.\u001b[39;00m\n",
      "\u001b[1;31mIndexError\u001b[0m: pop from empty list"
     ]
    }
   ],
   "source": [
    "sehirler.pop()\n",
    "\n",
    "#ankarayı sildi."
   ]
  },
  {
   "cell_type": "code",
   "execution_count": 18,
   "metadata": {},
   "outputs": [
    {
     "data": {
      "text/plain": [
       "'izmir'"
      ]
     },
     "execution_count": 18,
     "metadata": {},
     "output_type": "execute_result"
    }
   ],
   "source": [
    "sehirler.pop(0)\n",
    "\n",
    "#izmiri sildi."
   ]
  },
  {
   "cell_type": "code",
   "execution_count": 19,
   "metadata": {},
   "outputs": [
    {
     "data": {
      "text/plain": [
       "[]"
      ]
     },
     "execution_count": 19,
     "metadata": {},
     "output_type": "execute_result"
    }
   ],
   "source": [
    "sehirler"
   ]
  },
  {
   "attachments": {},
   "cell_type": "markdown",
   "metadata": {},
   "source": [
    "- insert() : istenilen indexe eleman ekler."
   ]
  },
  {
   "cell_type": "code",
   "execution_count": 21,
   "metadata": {},
   "outputs": [],
   "source": [
    "sehirler.insert(0,\"adana\")\n",
    "sehirler.insert(1, \"istanbul\")"
   ]
  },
  {
   "cell_type": "code",
   "execution_count": 22,
   "metadata": {},
   "outputs": [
    {
     "name": "stdout",
     "output_type": "stream",
     "text": [
      "['adana', 'istanbul']\n"
     ]
    }
   ],
   "source": [
    "print(sehirler)"
   ]
  },
  {
   "attachments": {},
   "cell_type": "markdown",
   "metadata": {},
   "source": [
    "- reverse(): listeyi ters çevirir."
   ]
  },
  {
   "cell_type": "code",
   "execution_count": 27,
   "metadata": {},
   "outputs": [
    {
     "name": "stdout",
     "output_type": "stream",
     "text": [
      "['istanbul', 'adana']\n"
     ]
    }
   ],
   "source": [
    "sehirler.reverse()\n",
    "\n",
    "print(sehirler)"
   ]
  },
  {
   "attachments": {},
   "cell_type": "markdown",
   "metadata": {},
   "source": [
    "- sort() : listeyi küçükten büyüğe sıralar."
   ]
  },
  {
   "cell_type": "code",
   "execution_count": 28,
   "metadata": {},
   "outputs": [
    {
     "name": "stdout",
     "output_type": "stream",
     "text": [
      "['adana', 'istanbul']\n"
     ]
    }
   ],
   "source": [
    "sehirler.sort()\n",
    "\n",
    "print(sehirler)"
   ]
  },
  {
   "attachments": {},
   "cell_type": "markdown",
   "metadata": {},
   "source": [
    "# Liste Toplama\n",
    "\n",
    "- İki listeyi birleştirir"
   ]
  },
  {
   "cell_type": "code",
   "execution_count": 29,
   "metadata": {},
   "outputs": [
    {
     "name": "stdout",
     "output_type": "stream",
     "text": [
      "['Berkcan', 'Ahmet', 'Eda', 'Buse']\n"
     ]
    }
   ],
   "source": [
    "liste1 = [\"Berkcan\", \"Ahmet\"]\n",
    "liste2 = [\"Eda\" , \"Buse\"]\n",
    "\n",
    "print(liste1 + liste2)"
   ]
  },
  {
   "cell_type": "code",
   "execution_count": 40,
   "metadata": {},
   "outputs": [
    {
     "name": "stdout",
     "output_type": "stream",
     "text": [
      "1\n",
      "5\n",
      "berkcan\n",
      "4\n",
      "[6, 8]\n",
      "6\n",
      "8\n"
     ]
    }
   ],
   "source": [
    "karisikList = [1, 5, \"berkcan\", 4, [6, 8]] #iç içe iki liste.\n",
    "\n",
    "print(karisikList[0])\n",
    "print(karisikList[1])\n",
    "print(karisikList[2])\n",
    "print(karisikList[3])\n",
    "print(karisikList[4])\n",
    "print(karisikList[4][0])\n",
    "print(karisikList[4][1])\n",
    "\n"
   ]
  },
  {
   "attachments": {},
   "cell_type": "markdown",
   "metadata": {},
   "source": [
    "# Tupple (Demet)\n",
    "\n",
    "- Tupple değiştirilemez, liste değiştirilebilir.\n",
    "- Tupple içine liste, liste içine tupple atanabilir.\n",
    "- () içine tanımlanır"
   ]
  },
  {
   "cell_type": "code",
   "execution_count": 43,
   "metadata": {},
   "outputs": [
    {
     "name": "stdout",
     "output_type": "stream",
     "text": [
      "5\n"
     ]
    }
   ],
   "source": [
    "tupleList = (2, 4, 6, \"Ankara\", 5)\n",
    "\n",
    "print(tupleList[4])"
   ]
  },
  {
   "attachments": {},
   "cell_type": "markdown",
   "metadata": {},
   "source": [
    "# Set\n",
    "\n",
    "- En önemli özelliği indexsiz ve sırasız elemanlardan oluşmasıdır.\n",
    "- Veri tekrarı yoktur, tüm elemanlar eşsizdir.\n",
    "- {} içine tanımlanır.\n"
   ]
  },
  {
   "cell_type": "code",
   "execution_count": 44,
   "metadata": {},
   "outputs": [
    {
     "ename": "TypeError",
     "evalue": "'set' object is not subscriptable",
     "output_type": "error",
     "traceback": [
      "\u001b[1;31m---------------------------------------------------------------------------\u001b[0m",
      "\u001b[1;31mTypeError\u001b[0m                                 Traceback (most recent call last)",
      "Cell \u001b[1;32mIn[44], line 4\u001b[0m\n\u001b[0;32m      1\u001b[0m ytü \u001b[39m=\u001b[39m {\u001b[39m\"\u001b[39m\u001b[39mkampüs\u001b[39m\u001b[39m\"\u001b[39m, \u001b[39m\"\u001b[39m\u001b[39mkasvet\u001b[39m\u001b[39m\"\u001b[39m, \u001b[39m\"\u001b[39m\u001b[39mmutluluk\u001b[39m\u001b[39m\"\u001b[39m}\n\u001b[1;32m----> 4\u001b[0m \u001b[39mprint\u001b[39m(ytü[\u001b[39m0\u001b[39;49m])\n",
      "\u001b[1;31mTypeError\u001b[0m: 'set' object is not subscriptable"
     ]
    }
   ],
   "source": [
    "ytü = {\"kampüs\", \"kasvet\", \"mutluluk\"}\n",
    "\n",
    "\n",
    "print(ytü[0])  #setler indexsizdir."
   ]
  },
  {
   "cell_type": "code",
   "execution_count": 46,
   "metadata": {},
   "outputs": [
    {
     "name": "stdout",
     "output_type": "stream",
     "text": [
      "True\n"
     ]
    }
   ],
   "source": [
    "print(\"kampüs\" in ytü)"
   ]
  },
  {
   "attachments": {},
   "cell_type": "markdown",
   "metadata": {},
   "source": [
    "# Set Metodları\n",
    "\n",
    "- add(): Sete eleman ekler.\n",
    "- remove() : Setten eleman siler.\n",
    "- clear() : Setin içerisindeki elemanları siler.\n",
    "- pop() : Setin son elemanını siler.\n",
    "- update(): Sete çoklu eleman ekler.\n",
    "- union() : İki seti birleştirir.\n",
    "- intersection() : İki setin kesişimini alır.\n",
    "- difference() : İki setin farkını alır.\n"
   ]
  },
  {
   "cell_type": "code",
   "execution_count": 50,
   "metadata": {},
   "outputs": [
    {
     "name": "stdout",
     "output_type": "stream",
     "text": [
      "{'kasvet', 'mutluluk'}\n"
     ]
    }
   ],
   "source": [
    "ytü.remove(\"kampüs\")\n",
    "print(ytü)"
   ]
  },
  {
   "cell_type": "code",
   "execution_count": 52,
   "metadata": {},
   "outputs": [
    {
     "data": {
      "text/plain": [
       "{1, 2, 3, 'geralt', 'liviya'}"
      ]
     },
     "execution_count": 52,
     "metadata": {},
     "output_type": "execute_result"
    }
   ],
   "source": [
    "set1 = {1,2,3}\n",
    "set2= {\"geralt\", \"liviya\"}\n",
    "\n",
    "set1.union(set2)"
   ]
  },
  {
   "attachments": {},
   "cell_type": "markdown",
   "metadata": {},
   "source": [
    "# Dictionary (Sözlük)\n",
    "\n",
    "- Sınırsız veri tutar.\n",
    "- Günlük Hayatta olan sözcükler \n",
    "- { } arasına tanımlanır\n",
    "- value: değer\n",
    "- {06: \"ankara\"} 06==key ankara==value\n",
    "- dict(\"\") ile de tanımlanabilir."
   ]
  },
  {
   "cell_type": "code",
   "execution_count": 53,
   "metadata": {},
   "outputs": [
    {
     "name": "stdout",
     "output_type": "stream",
     "text": [
      "parmak\n"
     ]
    }
   ],
   "source": [
    "sözlük = { \"glass\" : \"gözlük\", \"finger\" : \"parmak\"}\n",
    "\n",
    "print(sözlük[\"finger\"])"
   ]
  },
  {
   "attachments": {},
   "cell_type": "markdown",
   "metadata": {},
   "source": [
    "# veri ekleme"
   ]
  },
  {
   "cell_type": "code",
   "execution_count": 54,
   "metadata": {},
   "outputs": [
    {
     "name": "stdout",
     "output_type": "stream",
     "text": [
      "{'glass': 'gözlük', 'finger': 'parmak', 'pencil': 'kalem'}\n"
     ]
    }
   ],
   "source": [
    "sözlük[\"pencil\"] = \"kalem\"\n",
    "print(sözlük)"
   ]
  },
  {
   "attachments": {},
   "cell_type": "markdown",
   "metadata": {},
   "source": [
    "- veri güncelleme de veri eklemenin aynısı"
   ]
  },
  {
   "attachments": {},
   "cell_type": "markdown",
   "metadata": {},
   "source": [
    "# veri silme"
   ]
  },
  {
   "cell_type": "code",
   "execution_count": 56,
   "metadata": {},
   "outputs": [
    {
     "name": "stdout",
     "output_type": "stream",
     "text": [
      "{'glass': 'gözlük', 'pencil': 'kalem'}\n"
     ]
    }
   ],
   "source": [
    "del(sözlük[\"finger\"])\n",
    "\n",
    "print(sözlük)"
   ]
  },
  {
   "attachments": {},
   "cell_type": "markdown",
   "metadata": {},
   "source": [
    "# Sözlük Metotları\n",
    "\n",
    "- keys()  SÖZLÜKTEKİ KEYLERİ VERİR.\n",
    "- values() Sözlükteki valueları verir.\n",
    "- items() Sözlükteki key ve value çiftlerini verir.\n",
    "\n"
   ]
  },
  {
   "cell_type": "code",
   "execution_count": 57,
   "metadata": {},
   "outputs": [
    {
     "data": {
      "text/plain": [
       "dict_keys(['glass', 'pencil'])"
      ]
     },
     "execution_count": 57,
     "metadata": {},
     "output_type": "execute_result"
    }
   ],
   "source": [
    "sözlük.keys()"
   ]
  },
  {
   "cell_type": "code",
   "execution_count": 58,
   "metadata": {},
   "outputs": [
    {
     "data": {
      "text/plain": [
       "dict_items([('glass', 'gözlük'), ('pencil', 'kalem')])"
      ]
     },
     "execution_count": 58,
     "metadata": {},
     "output_type": "execute_result"
    }
   ],
   "source": [
    "sözlük.items()"
   ]
  },
  {
   "attachments": {},
   "cell_type": "markdown",
   "metadata": {},
   "source": [
    "# String Parçalama \n",
    "\n"
   ]
  },
  {
   "cell_type": "code",
   "execution_count": 59,
   "metadata": {},
   "outputs": [
    {
     "name": "stdout",
     "output_type": "stream",
     "text": [
      "tge\n",
      "Ye\n"
     ]
    }
   ],
   "source": [
    "x = \"Yetgen\"\n",
    "\n",
    "print(x[2: 5]) #2 dahil  5 dahil değil.\n",
    "\n",
    "print(x[ : 2]) # 0 dan 2 ye yazdır, 2 dahil değil"
   ]
  },
  {
   "attachments": {},
   "cell_type": "markdown",
   "metadata": {},
   "source": [
    "# String Metotları"
   ]
  },
  {
   "attachments": {},
   "cell_type": "markdown",
   "metadata": {},
   "source": [
    "# String kodlarım çalışmıyor!!!! hata var"
   ]
  },
  {
   "attachments": {},
   "cell_type": "markdown",
   "metadata": {},
   "source": [
    "- len() stringin uzunluğunu verir."
   ]
  },
  {
   "cell_type": "code",
   "execution_count": 60,
   "metadata": {},
   "outputs": [
    {
     "name": "stdout",
     "output_type": "stream",
     "text": [
      "6\n"
     ]
    }
   ],
   "source": [
    "print(len(x))"
   ]
  },
  {
   "attachments": {},
   "cell_type": "markdown",
   "metadata": {},
   "source": [
    "- upper() stringteki bütün harfleri büyük harfe çevirir."
   ]
  },
  {
   "cell_type": "code",
   "execution_count": 75,
   "metadata": {},
   "outputs": [
    {
     "name": "stdout",
     "output_type": "stream",
     "text": [
      "Yetgen\n"
     ]
    }
   ],
   "source": [
    "x.upper()\n",
    "\n",
    "print(x)"
   ]
  },
  {
   "attachments": {},
   "cell_type": "markdown",
   "metadata": {},
   "source": [
    "- lower() stringteki tüm harfleri büyük harfe çevirir."
   ]
  },
  {
   "cell_type": "code",
   "execution_count": 76,
   "metadata": {},
   "outputs": [
    {
     "name": "stdout",
     "output_type": "stream",
     "text": [
      "Yetgen\n"
     ]
    }
   ],
   "source": [
    "x.lower()\n",
    "\n",
    "print(x)"
   ]
  },
  {
   "attachments": {},
   "cell_type": "markdown",
   "metadata": {},
   "source": [
    "- swapcase() küçük harfleri büyüğe, büyük harfleri küçüğe çevirir."
   ]
  },
  {
   "cell_type": "code",
   "execution_count": 77,
   "metadata": {},
   "outputs": [
    {
     "name": "stdout",
     "output_type": "stream",
     "text": [
      "Yetgen\n"
     ]
    }
   ],
   "source": [
    "x.swapcase()\n",
    "\n",
    "print(x)"
   ]
  },
  {
   "attachments": {},
   "cell_type": "markdown",
   "metadata": {},
   "source": [
    "- capitalize() ilk harfi büyük yazar.\n",
    "- replace () harfleri değiştirir\n",
    "- split()  string parçalar.\n",
    "- strip() stringin başındaki ve sonundaki boşlukları siler.\n"
   ]
  },
  {
   "cell_type": "code",
   "execution_count": 78,
   "metadata": {},
   "outputs": [
    {
     "name": "stdout",
     "output_type": "stream",
     "text": [
      "Yetgen\n"
     ]
    }
   ],
   "source": [
    "x.replace(\"e\", \"a\")\n",
    "\n",
    "print(x)"
   ]
  },
  {
   "cell_type": "code",
   "execution_count": 83,
   "metadata": {},
   "outputs": [
    {
     "name": "stdout",
     "output_type": "stream",
     "text": [
      "[\"Ahmet'in\", 'beyni', 'infilak', 'ediyor.']\n"
     ]
    }
   ],
   "source": [
    "bilgi = \"Ahmet'in beyni infilak ediyor.\"\n",
    "\n",
    "print(bilgi.split(\" \"))\n",
    "\n"
   ]
  },
  {
   "attachments": {},
   "cell_type": "markdown",
   "metadata": {},
   "source": [
    "- startswitch( )  stringinbelirtilen karakterle başlayıp başlamadığını kontrol eder.\n",
    "- endswitch ()  stringin belirtilen karakterle bitip bitmediğini kontol eder.\n",
    "- find()  stringin içindekş verinin indexini verir. yoksa -1 döndürür.\n",
    "- index()  stringin içindeki verinin indexini verir. yoksa value eror verir.\n",
    "- isalpha() stringin tüm karakterlerinin alfabetik olup olmadığını kontrol eder.\n",
    "- isdigit() stringin tüm karakterleinin rakam olup olmadığını kontrol eder.\n"
   ]
  },
  {
   "attachments": {},
   "cell_type": "markdown",
   "metadata": {},
   "source": [
    "/n ne işe yarar araştır"
   ]
  }
 ],
 "metadata": {
  "kernelspec": {
   "display_name": "Python 3",
   "language": "python",
   "name": "python3"
  },
  "language_info": {
   "codemirror_mode": {
    "name": "ipython",
    "version": 3
   },
   "file_extension": ".py",
   "mimetype": "text/x-python",
   "name": "python",
   "nbconvert_exporter": "python",
   "pygments_lexer": "ipython3",
   "version": "3.11.2"
  },
  "orig_nbformat": 4,
  "vscode": {
   "interpreter": {
    "hash": "fe80a1c0ae2bc88c27e693094b3061750ad1d686be8a4bb37706c355a851c6df"
   }
  }
 },
 "nbformat": 4,
 "nbformat_minor": 2
}
