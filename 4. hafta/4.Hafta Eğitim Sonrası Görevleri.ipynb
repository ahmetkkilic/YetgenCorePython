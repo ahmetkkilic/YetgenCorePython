{
 "cells": [
  {
   "cell_type": "markdown",
   "metadata": {},
   "source": [
    "# Problem 1\n",
    "`ogrenciler` adında bir sözlük oluşturunuz. Kullanıcıdan döngü yardımıyla 3 öğrenci için veri girmesini isteyerek öğrencilerin sırasıyla okul numarası, isim, soy isim, telefon numarası ve doğum tarihi bilgilerini alınız. Aldığınız öğrenci bilgilerini yine aynı döngü yardımıyla `ogrenciler` adındaki sözlükte saklayınız. Daha sonra öğrenci bilgilerinin bulunduğu sözlük yapısını ekrana bastırınız.\n",
    "\n"
   ]
  },
  {
   "cell_type": "code",
   "execution_count": 3,
   "metadata": {},
   "outputs": [
    {
     "data": {
      "text/plain": [
       "dict_items([(1, {'okulNumarasi': 'sdad', 'isim': 'sds', 'soyİsim': 'ddsdfdsf', 'telNo': 'f', 'bDay': 'k'}), (2, {'okulNumarasi': 'p', 'isim': 'c', 'soyİsim': 'ö', 'telNo': 'ç', 'bDay': 'l'}), (3, {'okulNumarasi': '', 'isim': 'o', 'soyİsim': 'oı', 'telNo': 'htgh', 'bDay': 'g'})])"
      ]
     },
     "execution_count": 3,
     "metadata": {},
     "output_type": "execute_result"
    }
   ],
   "source": [
    "ogrenciler = {}\n",
    "\n",
    "for i in range(1, 4):\n",
    "    okulNumarasi = input(\"lütfen okul numaranizi giriniz:\")\n",
    "    isim = input(\"lütfen isminizi giriniz:\")\n",
    "    soyİsim = input(\"lütfen soyisminizi giriniz: \")\n",
    "    telNo = input(\"lütfen telefon numaranizi giriniz: \")\n",
    "    bDay = input(\"lütfen dogum tarihinizi giriniz:\")\n",
    "\n",
    "\n",
    "    ogrenciler[i] = {\n",
    "\n",
    "        \"okulNumarasi\" : okulNumarasi , \"isim\" : isim, \"soyİsim\" : soyİsim , \"telNo\" : telNo, \"bDay\" : bDay \n",
    "    }\n",
    "    \n",
    "ogrenciler.items()"
   ]
  },
  {
   "cell_type": "markdown",
   "metadata": {},
   "source": [
    "# Problem 2\n",
    "\n",
    "### a - Biraz ısınarak başlayalım!\n",
    "\n",
    "```\n",
    "numbers = [5,10,10,15,15,15,20,20,20,20]\n",
    "```\n",
    "\n",
    "Yukarıda `numbers` adında 10 elemanlı bir liste verilmiştir. Bu listenin her elemanını kontrol eden ve tekrar eden elemanları bir kez olacak şekilde başka bir listeye kopyalayan bir program yazınız. Son olarak oluşturduğunuz listeyi ekrana bastırınız.\n",
    "\n",
    "\n",
    "\n",
    "\n",
    "```\n",
    ">Output\n",
    "[5, 10, 15, 20]\n",
    "```\n"
   ]
  },
  {
   "cell_type": "code",
   "execution_count": 6,
   "metadata": {},
   "outputs": [
    {
     "name": "stdout",
     "output_type": "stream",
     "text": [
      "[5, 10, 15, 20]\n"
     ]
    }
   ],
   "source": [
    "# \"her eleman\" dendiğinde aklımıza for döngüü gelsin.\n",
    "\n",
    "numbers = [5,10,10,15,15,15,20,20,20,20]\n",
    "\n",
    "yeni = []\n",
    "\n",
    "for i in numbers:\n",
    "    if i in yeni:\n",
    "        continue\n",
    "\n",
    "    else:\n",
    "        yeni.append(i)\n",
    "\n",
    "\n",
    "print(yeni)\n"
   ]
  },
  {
   "cell_type": "markdown",
   "metadata": {},
   "source": [
    "### 🌶️ b) Hadi işi biraz daha zorlaştıralım! \n",
    "\n",
    "\n",
    "Şimdiyse senden `numbers` isimli listedeki tekrar eden elemanları `repeatNumbers` adındaki listeye; tekrar etmeyen elemanları `uniqueNumbers`adındaki listeye kopyalayan yazmanı ve listeleri ekrana bastırmanı bekliyoruz\n",
    "\n",
    "```\n",
    ">Output\n",
    "Tekrar Eden Elemanlar: [10, 10, 15, 15, 15, 20, 20, 20, 20]\n",
    "Tekrar Etmeyen Elemanlar: [5]\n",
    "```"
   ]
  },
  {
   "cell_type": "code",
   "execution_count": 7,
   "metadata": {},
   "outputs": [
    {
     "name": "stdout",
     "output_type": "stream",
     "text": [
      "tekrar edenler [10, 10, 15, 15, 15, 20, 20, 20, 20]\n",
      "tekrar etmeyenler [5]\n"
     ]
    }
   ],
   "source": [
    "numbers = [5,10,10,15,15,15,20,20,20,20]\n",
    "\n",
    "tekrarEdenler = []\n",
    "\n",
    "tekrarEtmeyenler = []\n",
    "\n",
    "\n",
    "for i in numbers:\n",
    "    if numbers.count(i) == 1:\n",
    "        tekrarEtmeyenler.append(i)\n",
    "    \n",
    "    else:\n",
    "        tekrarEdenler.append(i)\n",
    "\n",
    "print(\"tekrar edenler\", tekrarEdenler)\n",
    "\n",
    "print(\"tekrar etmeyenler\", tekrarEtmeyenler)"
   ]
  },
  {
   "cell_type": "markdown",
   "metadata": {},
   "source": [
    "# Problem 3\n",
    "sn1 = {1,2,3,4,5}\n",
    "\n",
    "sn2 = {4,5,6,7,8}\n",
    "\n",
    " Verilen 2 adet küme için kesişimlerini, farklarını ve birleşimlerini bulunuz. "
   ]
  },
  {
   "cell_type": "code",
   "execution_count": 16,
   "metadata": {},
   "outputs": [
    {
     "name": "stdout",
     "output_type": "stream",
     "text": [
      "{4, 5}\n",
      "{1, 2, 3, 4, 5, 6, 7, 8}\n",
      " farkları {1, 2, 3} ve {8, 6, 7}\n"
     ]
    }
   ],
   "source": [
    "sn1 = {1,2,3,4,5}\n",
    "\n",
    "sn2 = {4,5,6,7,8}\n",
    "\n",
    "kesisim = sn1.intersection(sn2)\n",
    "\n",
    "birlesim = sn1.union(sn2)\n",
    "\n",
    "fark1= sn1.difference(sn2)\n",
    "\n",
    "fark2 = sn2.difference(sn1)\n",
    "\n",
    "print(kesisim)\n",
    "\n",
    "print(birlesim)\n",
    "\n",
    "print(f\" farkları {fark1} ve {fark2}\")"
   ]
  },
  {
   "cell_type": "markdown",
   "metadata": {},
   "source": [
    "# Problem 4\n",
    "\n",
    "Buradaki işlemlerimizin tamamı stringler içindir. Aşağıda verilecek olan metodlar için kendinizin örnek yaratması gerekmektedir. \n",
    "\n",
    "Örneğin `upper` için `string` değişkeni oluştururken` k = \"BAC\"` şeklinde oluşturmayınız. Bunun yerine k değişkenini `k = \"bac`\" şeklinde oluşturmanız `upper` metodundaki değişimi görebilmeniz için daha iyi olacaktır.\n",
    "\n",
    "Bütün metodlardaki değişimin gözle görülür şekilde değişimi beklenmektedir.\n",
    "\n",
    "\n",
    "1- capitalize(), lower(), upper(), swapcase(), title(), replace()\n",
    "\n",
    "2- endswith(), startswith(), find(), index(), count()\n",
    "\n",
    "3- split(), strip(), join(), islower(), isalpha(), isdigit()\n",
    "\n",
    "\n",
    "Yukarıdaki `string` metodlarındaki değişimleri görebildiğimiz bir program yazınız.\n"
   ]
  },
  {
   "cell_type": "code",
   "execution_count": 26,
   "metadata": {},
   "outputs": [
    {
     "name": "stdout",
     "output_type": "stream",
     "text": [
      "Ahmet\n",
      "merhaba\n",
      "SLM\n",
      "aHMET\n",
      "Umarim Python Ögrenebilrim\n",
      "yetgen dikey python\n"
     ]
    }
   ],
   "source": [
    "#part1\n",
    "\n",
    "\n",
    "a = \"ahmet\"\n",
    "\n",
    "print(a.capitalize())\n",
    "\n",
    "\n",
    "b = \"MERHABA\"\n",
    "\n",
    "print(b.lower())\n",
    "\n",
    "c = \"slm\"\n",
    "\n",
    "print(c.upper())\n",
    "\n",
    "\n",
    "d =\"Ahmet\"\n",
    "\n",
    "print(d.swapcase())\n",
    "\n",
    "\n",
    "e = \"umarim python ögrenebilrim\"\n",
    "\n",
    "print(e.title())\n",
    "\n",
    "\n",
    "yetgen = \"yetgen core python\"\n",
    "\n",
    "\n",
    "print(yetgen.replace(\"core\", \"dikey\"))\n",
    "\n",
    "\n",
    "\n"
   ]
  },
  {
   "cell_type": "code",
   "execution_count": 1,
   "metadata": {},
   "outputs": [
    {
     "name": "stdout",
     "output_type": "stream",
     "text": [
      "True\n",
      "True\n",
      "3\n",
      "3\n",
      "2\n"
     ]
    }
   ],
   "source": [
    "#part2\n",
    "\n",
    "k =\"ögreniyor muyum?\"\n",
    "\n",
    "print(k.endswith(\"?\"))\n",
    "\n",
    "\n",
    "print(k.startswith(\"ögre\"))\n",
    "\n",
    "\n",
    "print(k.find(\"e\")) #kacıncı oldugunu bulur\n",
    "\n",
    "\n",
    "\n",
    "print(k.index(\"e\"))\n",
    "\n",
    "\n",
    "print(k.count(\"m\")) #sayar\n",
    "\n",
    "\n"
   ]
  },
  {
   "cell_type": "code",
   "execution_count": 46,
   "metadata": {},
   "outputs": [
    {
     "name": "stdout",
     "output_type": "stream",
     "text": [
      "selam  nasilsiniz\n",
      "['selam', 'nasilsiniz']\n",
      "     selam  nasilsiniz  s\n",
      "True\n",
      "False\n",
      "False\n"
     ]
    }
   ],
   "source": [
    "#part 3\n",
    "\n",
    "\n",
    "k = \"    selam  nasilsiniz  \"\n",
    "\n",
    "print(k.strip())  #boslukşarı kaldır\n",
    "\n",
    "\n",
    "print(k.split())\n",
    "\n",
    "\n",
    "print(k.join(\" s\"))\n",
    "\n",
    "\n",
    "print(k.islower())       #hep büyük veya hep küçükse true\n",
    "\n",
    "\n",
    "print(k.isdigit())           # sayisal degeri kontrol eder\n",
    "\n",
    "\n",
    "print(k.isalpha()) #alfabedeki karakterleri kontrol eder, bosluk olmaması gerek"
   ]
  }
 ],
 "metadata": {
  "kernelspec": {
   "display_name": "Python 3.10.5 64-bit",
   "language": "python",
   "name": "python3"
  },
  "language_info": {
   "codemirror_mode": {
    "name": "ipython",
    "version": 3
   },
   "file_extension": ".py",
   "mimetype": "text/x-python",
   "name": "python",
   "nbconvert_exporter": "python",
   "pygments_lexer": "ipython3",
   "version": "3.11.2"
  },
  "orig_nbformat": 4,
  "vscode": {
   "interpreter": {
    "hash": "5026d2d6e7aaaaba093def813beadff083d8733e4a511af01735cbabd156995d"
   }
  }
 },
 "nbformat": 4,
 "nbformat_minor": 2
}
