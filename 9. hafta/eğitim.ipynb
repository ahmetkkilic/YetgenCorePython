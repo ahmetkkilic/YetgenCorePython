{
 "cells": [
  {
   "attachments": {},
   "cell_type": "markdown",
   "metadata": {},
   "source": [
    "# Nesne Yönelimli Programlama"
   ]
  },
  {
   "attachments": {},
   "cell_type": "markdown",
   "metadata": {},
   "source": [
    "## Methotlar \n"
   ]
  },
  {
   "cell_type": "code",
   "execution_count": 1,
   "metadata": {},
   "outputs": [],
   "source": [
    "class Yazilimci():\n",
    "    def __init__(self, isim, soyisim, numara, maas, diller):\n",
    "        self.isim = isim\n",
    "        self.soyisim = soyisim\n",
    "        self.numara = numara\n",
    "        self.maas = maas\n",
    "        self.diller = diller\n",
    "\n",
    "    def bilgileri_göster(self):\n",
    "        print(f\"\"\"\n",
    "        Çalışan Bilgisi:\n",
    "           İsim : {self.isim}\n",
    "           Soyisim : {self.soyisim}\n",
    "           Numara : {self.numara} \n",
    "           Maas : {self.maas}\n",
    "           Diller : {self.diller}\n",
    "        \"\"\") \n",
    "\n",
    "    def dil_ekle(self, yeni_dil):\n",
    "        print(\"Dil eklendi\")\n",
    "        self.diller.append(yeni_dil)\n",
    "    \n",
    "    def maas_yukselt(self, zam):\n",
    "        print(\"Zam yapılıyor\")\n",
    "        self.maas += 250"
   ]
  },
  {
   "cell_type": "code",
   "execution_count": 3,
   "metadata": {},
   "outputs": [
    {
     "name": "stdout",
     "output_type": "stream",
     "text": [
      "\n",
      "        Çalışan Bilgisi:\n",
      "           İsim : Ahmet\n",
      "           Soyisim : Kılıc\n",
      "           Numara : 545 \n",
      "           Maas : 10000\n",
      "           Diller : ['python', 'c+']\n",
      "        \n"
     ]
    }
   ],
   "source": [
    "Yazilimci1 = Yazilimci(\"Ahmet\", \"Kılıc\", 545, 10000, [\"python\", \"c+\"])\n",
    "\n",
    "Yazilimci1.bilgileri_göster()"
   ]
  },
  {
   "cell_type": "code",
   "execution_count": 4,
   "metadata": {},
   "outputs": [
    {
     "name": "stdout",
     "output_type": "stream",
     "text": [
      "Zam yapılıyor\n"
     ]
    }
   ],
   "source": [
    "Yazilimci1.maas_yukselt(zam=250)"
   ]
  },
  {
   "cell_type": "code",
   "execution_count": 5,
   "metadata": {},
   "outputs": [
    {
     "name": "stdout",
     "output_type": "stream",
     "text": [
      "\n",
      "        Çalışan Bilgisi:\n",
      "           İsim : Ahmet\n",
      "           Soyisim : Kılıc\n",
      "           Numara : 545 \n",
      "           Maas : 10250\n",
      "           Diller : ['python', 'c+']\n",
      "        \n"
     ]
    }
   ],
   "source": [
    "Yazilimci1.bilgileri_göster()"
   ]
  },
  {
   "attachments": {},
   "cell_type": "markdown",
   "metadata": {},
   "source": [
    "# Inheritance\n",
    "\n",
    "- kalıtım miras alma\n",
    "\n",
    "- super() miras alınan kodları kullanma\n",
    "\n"
   ]
  }
 ],
 "metadata": {
  "kernelspec": {
   "display_name": "Python 3",
   "language": "python",
   "name": "python3"
  },
  "language_info": {
   "codemirror_mode": {
    "name": "ipython",
    "version": 3
   },
   "file_extension": ".py",
   "mimetype": "text/x-python",
   "name": "python",
   "nbconvert_exporter": "python",
   "pygments_lexer": "ipython3",
   "version": "3.11.3"
  },
  "orig_nbformat": 4
 },
 "nbformat": 4,
 "nbformat_minor": 2
}
