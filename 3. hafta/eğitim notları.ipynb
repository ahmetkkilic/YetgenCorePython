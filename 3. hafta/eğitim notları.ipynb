{
 "cells": [
  {
   "attachments": {},
   "cell_type": "markdown",
   "metadata": {},
   "source": [
    "= işareti atama\n",
    "== iki ifade birbirine eşit mi yoksa değilmi, eşitse true değilse false değerini döndürür\n",
    "!= eşit değil mi?\n",
    "> büyüktür\n",
    "< küçüktür\n",
    ">= büyükeşit\n",
    "<= küçükeşit"
   ]
  },
  {
   "cell_type": "code",
   "execution_count": null,
   "metadata": {
    "vscode": {
     "languageId": "plaintext"
    }
   },
   "outputs": [],
   "source": [
    "a, b, c = 1, 1, 5\n",
    "\n",
    "\n",
    "print(a==b)\n",
    "print(a!=b)"
   ]
  }
 ],
 "metadata": {
  "language_info": {
   "name": "python"
  },
  "orig_nbformat": 4
 },
 "nbformat": 4,
 "nbformat_minor": 2
}
