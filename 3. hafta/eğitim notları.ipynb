{
 "cells": [
  {
   "attachments": {},
   "cell_type": "markdown",
   "metadata": {},
   "source": [
    "= işareti atama\n",
    "== iki ifade birbirine eşit mi yoksa değilmi, eşitse true değilse false değerini döndürür\n",
    "!= eşit değil mi?\n",
    "> büyüktür\n",
    "< küçüktür\n",
    ">= büyükeşit\n",
    "<= küçükeşit"
   ]
  },
  {
   "cell_type": "code",
   "execution_count": null,
   "metadata": {},
   "outputs": [],
   "source": []
  },
  {
   "cell_type": "code",
   "execution_count": null,
   "metadata": {},
   "outputs": [],
   "source": [
    "a, b, c = 1, 1, 5\n",
    "\n",
    "\n",
    "print(a==b)\n",
    "print(a!=b)"
   ]
  },
  {
   "cell_type": "code",
   "execution_count": 3,
   "metadata": {},
   "outputs": [
    {
     "name": "stdout",
     "output_type": "stream",
     "text": [
      "True\n",
      "False\n"
     ]
    }
   ],
   "source": [
    "a, b, c = 1, 1, 5\n",
    "\n",
    "\n",
    "print(a==b)\n",
    "print(a!=b)"
   ]
  },
  {
   "cell_type": "code",
   "execution_count": 3,
   "metadata": {},
   "outputs": [
    {
     "name": "stdout",
     "output_type": "stream",
     "text": [
      "False\n",
      "True\n"
     ]
    }
   ],
   "source": [
    "a, b, c = 1, 1, 5\n",
    "\n",
    "\n",
    "print(a<b)\n",
    "print(a<c)"
   ]
  },
  {
   "attachments": {},
   "cell_type": "markdown",
   "metadata": {},
   "source": [
    "<h1>Mantıksal Operatörler<h1>\n",
    "<h3>AND OPERATÖRÜ:<h3>\n",
    "\n",
    "<p>Her iki durum da doğruysa true, diğer durum false.\n",
    "\n",
    "- True and True = True /\n",
    "- True and False = False\n",
    "<p>\n"
   ]
  },
  {
   "cell_type": "code",
   "execution_count": 4,
   "metadata": {},
   "outputs": [
    {
     "name": "stdout",
     "output_type": "stream",
     "text": [
      "False\n"
     ]
    }
   ],
   "source": [
    "x = int(input(\"Bir sayı giriniz:\"))\n",
    "print(x>5 and x <100)\n"
   ]
  },
  {
   "attachments": {},
   "cell_type": "markdown",
   "metadata": {},
   "source": [
    "<h3>OR OPERATÖRÜ:<h3>\n",
    "\n",
    "- True or True = True \n",
    "- False or True = True \n",
    "- True or False = True \n",
    "- False or False = False \n"
   ]
  },
  {
   "cell_type": "code",
   "execution_count": 7,
   "metadata": {},
   "outputs": [
    {
     "name": "stdout",
     "output_type": "stream",
     "text": [
      "False\n"
     ]
    }
   ],
   "source": [
    "x = int(input(\"Bir sayı giriniz:\"))\n",
    "print(x>0 or x % 2 ==0)"
   ]
  },
  {
   "attachments": {},
   "cell_type": "markdown",
   "metadata": {},
   "source": [
    "<h3>NOT OPERATÖRÜ: <h3>\n",
    "\n",
    "- True için False\n",
    "- False için True döndürür."
   ]
  },
  {
   "cell_type": "code",
   "execution_count": 8,
   "metadata": {},
   "outputs": [
    {
     "name": "stdout",
     "output_type": "stream",
     "text": [
      "False\n"
     ]
    }
   ],
   "source": [
    "print(not(True))"
   ]
  },
  {
   "attachments": {},
   "cell_type": "markdown",
   "metadata": {},
   "source": [
    "<h1>   KARAR YAPILARI                         <h1>\n",
    "\n",
    "- if\n",
    "- elif\n",
    "- else"
   ]
  },
  {
   "cell_type": "code",
   "execution_count": 11,
   "metadata": {},
   "outputs": [
    {
     "name": "stdout",
     "output_type": "stream",
     "text": [
      "sayiler eşittir.\n"
     ]
    }
   ],
   "source": [
    "sayi1 = int(input(\"ilk sayıyı gir:\"))\n",
    "sayi2 = int(input(\"ikinci sayıyı gir:\"))\n",
    "\n",
    "if sayi1 > sayi2:\n",
    "    print(\"1. sayi ikinci sayıdan büyüktür.\")\n",
    "elif sayi1 == sayi2:\n",
    "    print( \"sayiler eşittir.\")\n",
    "elif sayi1 < sayi2:\n",
    "    print(\"sayi2 > sayi1\")    "
   ]
  },
  {
   "attachments": {},
   "cell_type": "markdown",
   "metadata": {},
   "source": [
    "\n",
    "\n",
    "- İn Operatörü\n",
    "dizinin öğesi mi değil mi? dahil mi değil mi?\n"
   ]
  },
  {
   "cell_type": "code",
   "execution_count": 12,
   "metadata": {},
   "outputs": [
    {
     "data": {
      "text/plain": [
       "False"
      ]
     },
     "execution_count": 12,
     "metadata": {},
     "output_type": "execute_result"
    }
   ],
   "source": [
    "string = \"Yetgen\"\n",
    "\"p\" in string"
   ]
  },
  {
   "attachments": {},
   "cell_type": "markdown",
   "metadata": {},
   "source": [
    "<h1> DÖNGÜLER:<h1>\n",
    "\n",
    "for eleman in veriYapisi:\n",
    "    Yapilacak İşlemler"
   ]
  },
  {
   "cell_type": "code",
   "execution_count": 13,
   "metadata": {},
   "outputs": [
    {
     "name": "stdout",
     "output_type": "stream",
     "text": [
      "1\n",
      "2\n",
      "3\n",
      "4\n",
      "5\n"
     ]
    }
   ],
   "source": [
    "liste = [1,2,3,4,5]\n",
    "\n",
    "for i in liste:\n",
    "    print(i)\n",
    "    "
   ]
  },
  {
   "attachments": {},
   "cell_type": "markdown",
   "metadata": {},
   "source": [
    "<h1>While Döngüsü <h1>\n",
    "\n",
    "\n",
    "while sonsuza kadar devam eder, durması için koşul durumunun false olması gerekir."
   ]
  },
  {
   "cell_type": "code",
   "execution_count": 14,
   "metadata": {},
   "outputs": [
    {
     "name": "stdout",
     "output_type": "stream",
     "text": [
      "Toplam :  55\n"
     ]
    }
   ],
   "source": [
    "sum = 0\n",
    "i = 1\n",
    "\n",
    "while i<11:\n",
    "    sum += i\n",
    "    i +=1\n",
    "print(\"Toplam : \" , sum)"
   ]
  },
  {
   "attachments": {},
   "cell_type": "markdown",
   "metadata": {},
   "source": [
    "<h1>range() fonksiyonu <h1>\n",
    "\n",
    "- range(başlangıç, bitiş, artış miktarı) şeklinde kullanılır."
   ]
  },
  {
   "cell_type": "code",
   "execution_count": 15,
   "metadata": {},
   "outputs": [
    {
     "name": "stdout",
     "output_type": "stream",
     "text": [
      "1\n",
      "3\n",
      "5\n",
      "7\n",
      "9\n"
     ]
    }
   ],
   "source": [
    "for x in range(1,10,2):\n",
    "    print(x)"
   ]
  },
  {
   "attachments": {},
   "cell_type": "markdown",
   "metadata": {},
   "source": [
    "<h1> Break: Döngüyü sonlandırır<h1>\n",
    "<h1>Continue: Döngünün sonraki adımına geçer<h1>"
   ]
  },
  {
   "cell_type": "code",
   "execution_count": 17,
   "metadata": {},
   "outputs": [
    {
     "name": "stdout",
     "output_type": "stream",
     "text": [
      "0\n",
      "1\n",
      "2\n",
      "3\n",
      "4\n"
     ]
    }
   ],
   "source": [
    "i = 0\n",
    "while i<10:\n",
    "    if(i==5):\n",
    "        break\n",
    "    else:\n",
    "        print(i)\n",
    "        i += 1\n"
   ]
  },
  {
   "cell_type": "code",
   "execution_count": 18,
   "metadata": {},
   "outputs": [
    {
     "name": "stdout",
     "output_type": "stream",
     "text": [
      "Uygulamadan cikmak icin q tuşuna basiniz.\n",
      "Yasiniz : 19\n",
      "Uygulamadan cikmak icin q tuşuna basiniz.\n",
      "Yasiniz : 20\n",
      "Uygulamadan cikmak icin q tuşuna basiniz.\n",
      "Yasiniz : 21\n",
      "Uygulamadan cikmak icin q tuşuna basiniz.\n"
     ]
    }
   ],
   "source": [
    "while True:\n",
    "    print(\"Uygulamadan cikmak icin q tuşuna basiniz.\")\n",
    "    yas = input(\"Yas :\")\n",
    "    if(yas== \"q\"):\n",
    "        break\n",
    "    else:\n",
    "        print(\"Yasiniz :\", yas)\n",
    "        "
   ]
  }
 ],
 "metadata": {
  "kernelspec": {
   "display_name": "Python 3",
   "language": "python",
   "name": "python3"
  },
  "language_info": {
   "codemirror_mode": {
    "name": "ipython",
    "version": 3
   },
   "file_extension": ".py",
   "mimetype": "text/x-python",
   "name": "python",
   "nbconvert_exporter": "python",
   "pygments_lexer": "ipython3",
   "version": "3.11.2"
  },
  "orig_nbformat": 4
 },
 "nbformat": 4,
 "nbformat_minor": 2
}
