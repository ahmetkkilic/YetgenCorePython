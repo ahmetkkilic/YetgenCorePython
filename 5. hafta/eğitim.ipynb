{
 "cells": [
  {
   "cell_type": "code",
   "execution_count": 1,
   "metadata": {},
   "outputs": [
    {
     "name": "stdout",
     "output_type": "stream",
     "text": [
      "[1, 4, 9, 16, 25, 36, 49, 64, 81, 100]\n"
     ]
    }
   ],
   "source": [
    "#KLASİK YÖNTEM\n",
    "\n",
    "liste = [1,2,3,4,5,6,7,8,9,10]\n",
    "yeniliste = []\n",
    "\n",
    "for i in liste:\n",
    "    yeniliste.append(i * i)\n",
    "print(yeniliste)"
   ]
  },
  {
   "cell_type": "code",
   "execution_count": 2,
   "metadata": {},
   "outputs": [],
   "source": [
    "#List\n",
    "\n",
    "liste = [1,2,3,4,5,6,7,8,9,10]\n",
    "yeniListe = [i * i for i in liste]"
   ]
  },
  {
   "cell_type": "code",
   "execution_count": 3,
   "metadata": {},
   "outputs": [
    {
     "name": "stdout",
     "output_type": "stream",
     "text": [
      "[1, 4, 9, 16, 25, 36, 49, 64, 81, 100]\n"
     ]
    }
   ],
   "source": [
    "print(yeniListe)"
   ]
  },
  {
   "attachments": {},
   "cell_type": "markdown",
   "metadata": {},
   "source": [
    "* FONKSİYONLAR\n",
    "\n",
    "def isim(parametre1, parametre2)\n",
    "-  yapılacak işlemler"
   ]
  },
  {
   "cell_type": "code",
   "execution_count": 5,
   "metadata": {},
   "outputs": [
    {
     "name": "stdout",
     "output_type": "stream",
     "text": [
      "arbalet yapacagim\n",
      "arbalet yapacagim\n"
     ]
    }
   ],
   "source": [
    "def ahmet():\n",
    "    print(\"arbalet yapacagim\")\n",
    "\n",
    "\n",
    "ahmet()\n",
    "ahmet()"
   ]
  },
  {
   "cell_type": "code",
   "execution_count": 8,
   "metadata": {},
   "outputs": [
    {
     "name": "stdout",
     "output_type": "stream",
     "text": [
      "merhaba ziyaretci\n",
      "merhaba Ahmet\n"
     ]
    }
   ],
   "source": [
    "def yazAbi(name=\"ziyaretci\"):\n",
    "    print(\"merhaba\", name)\n",
    "\n",
    "yazAbi()\n",
    "yazAbi(\"Ahmet\")"
   ]
  },
  {
   "cell_type": "code",
   "execution_count": 9,
   "metadata": {},
   "outputs": [
    {
     "name": "stdout",
     "output_type": "stream",
     "text": [
      "41\n"
     ]
    }
   ],
   "source": [
    "def mat(sayi1, sayi2, sayi3):\n",
    "    toplam = sayi1 + sayi2 + sayi3\n",
    "    print(toplam)\n",
    "\n",
    "mat(10,11,20)"
   ]
  },
  {
   "cell_type": "code",
   "execution_count": 13,
   "metadata": {},
   "outputs": [
    {
     "name": "stdout",
     "output_type": "stream",
     "text": [
      "Sisteme hos geldiniz isim soyisim\n",
      "Sisteme hos geldiniz ahmet kilic\n"
     ]
    }
   ],
   "source": [
    "def merhaba( name = \"isim\" , surname = \"soyisim\"):\n",
    "    print(\"Sisteme hos geldiniz\" ,name , surname)\n",
    "\n",
    "\n",
    "merhaba()\n",
    "merhaba(\"ahmet\", \"kilic\")"
   ]
  },
  {
   "cell_type": "code",
   "execution_count": 14,
   "metadata": {},
   "outputs": [
    {
     "name": "stdout",
     "output_type": "stream",
     "text": [
      "30\n",
      "6\n",
      "2\n"
     ]
    }
   ],
   "source": [
    "def carp(sayi1 = 1, sayi2= 1, sayi3= 1):\n",
    "    c = sayi1*sayi2*sayi3\n",
    "    print(c)\n",
    "\n",
    "carp(2,3,5)\n",
    "carp(2,3)\n",
    "carp(2)"
   ]
  }
 ],
 "metadata": {
  "kernelspec": {
   "display_name": "Python 3",
   "language": "python",
   "name": "python3"
  },
  "language_info": {
   "codemirror_mode": {
    "name": "ipython",
    "version": 3
   },
   "file_extension": ".py",
   "mimetype": "text/x-python",
   "name": "python",
   "nbconvert_exporter": "python",
   "pygments_lexer": "ipython3",
   "version": "3.11.3"
  },
  "orig_nbformat": 4,
  "vscode": {
   "interpreter": {
    "hash": "fe80a1c0ae2bc88c27e693094b3061750ad1d686be8a4bb37706c355a851c6df"
   }
  }
 },
 "nbformat": 4,
 "nbformat_minor": 2
}
